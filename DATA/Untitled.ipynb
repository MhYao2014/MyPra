{
 "cells": [
  {
   "cell_type": "code",
   "execution_count": null,
   "metadata": {},
   "outputs": [],
   "source": [
    "import os \n",
    "path = './relation_pairs'\n",
    "with open('./train_ralation.txt', 'r') as f1:\n",
    "    datas = f1.readlines()\n",
    "    for data in datas:\n",
    "        relation = data.stripe().split('\\t').[0]\n",
    "        os.mkdir(path + relation)\n",
    "        with open('./train.txt') as f2:\n",
    "            datas2 = f2.readlines()\n",
    "            for data2 in datas2"
   ]
  }
 ],
 "metadata": {
  "kernelspec": {
   "display_name": "Python 3",
   "language": "python",
   "name": "python3"
  },
  "language_info": {
   "codemirror_mode": {
    "name": "ipython",
    "version": 3
   },
   "file_extension": ".py",
   "mimetype": "text/x-python",
   "name": "python",
   "nbconvert_exporter": "python",
   "pygments_lexer": "ipython3",
   "version": "3.6.8"
  }
 },
 "nbformat": 4,
 "nbformat_minor": 4
}
