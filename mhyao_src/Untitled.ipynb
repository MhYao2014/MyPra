{
 "cells": [
  {
   "cell_type": "code",
   "execution_count": 11,
   "metadata": {},
   "outputs": [
    {
     "name": "stdout",
     "output_type": "stream",
     "text": [
      "I am here\n",
      "I am here 2\n",
      "I am here\n",
      "I am here 2\n"
     ]
    }
   ],
   "source": [
    "from multiprocessing import Pool\n",
    "\n",
    "def print_process_id(parent_id: int,\n",
    "                    child_id: int):\n",
    "    print(f\"parent_id:{parent_id};\"\n",
    "          f\"child_id:{child_id}.\")\n",
    "    \n",
    "def open_process(parent_id: int):\n",
    "    p_num = 2\n",
    "    child_pool = Pool(processes=p_num)\n",
    "    for j in range(p_num):\n",
    "        print(\"I am here 3\")\n",
    "        child_pool.apply_async(func=print_process_id,\n",
    "                               args=(parent_id, j))\n",
    "        print(\"I am here 4\")\n",
    "    child_pool.close()\n",
    "    child_pool.join()\n",
    "\n",
    "p_num = 2\n",
    "parent_pool = Pool(processes=p_num)\n",
    "result_list = []\n",
    "for i in range(p_num):\n",
    "    print(\"I am here\")\n",
    "    result_list.append(parent_pool.apply_async(func=print_process_id,\n",
    "                                               args=(i,)))\n",
    "    print(\"I am here 2\")\n",
    "parent_pool.close()\n",
    "parent_pool.join()"
   ]
  },
  {
   "cell_type": "code",
   "execution_count": null,
   "metadata": {},
   "outputs": [],
   "source": []
  },
  {
   "cell_type": "code",
   "execution_count": null,
   "metadata": {},
   "outputs": [],
   "source": []
  }
 ],
 "metadata": {
  "kernelspec": {
   "display_name": "Python 3",
   "language": "python",
   "name": "python3"
  },
  "language_info": {
   "codemirror_mode": {
    "name": "ipython",
    "version": 3
   },
   "file_extension": ".py",
   "mimetype": "text/x-python",
   "name": "python",
   "nbconvert_exporter": "python",
   "pygments_lexer": "ipython3",
   "version": "3.6.8"
  }
 },
 "nbformat": 4,
 "nbformat_minor": 4
}
